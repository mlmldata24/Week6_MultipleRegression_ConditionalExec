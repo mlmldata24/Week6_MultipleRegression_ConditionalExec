{
 "cells": [
  {
   "cell_type": "markdown",
   "metadata": {},
   "source": [
    "### Multiple regression workbook\n",
    "\n",
    "3. [Multivariate regression tutorial: aragonite saturation state](#3.-Multivariate-regression-tutorial:-aragonite-saturation-state)\n",
    "4. [Application of final model for aragonite saturation state](#4.-Application-of-final-model-for-aragonite-saturation-state)"
   ]
  },
  {
   "cell_type": "code",
   "execution_count": 1,
   "metadata": {},
   "outputs": [],
   "source": [
    "import numpy as np\n",
    "import matplotlib.pyplot as plt\n",
    "import pandas as pd\n",
    "\n",
    "from scipy import stats\n",
    "import statsmodels.api as sm\n",
    "import statsmodels.formula.api as smf\n",
    "import pingouin as pg\n",
    "\n",
    "import PyCO2SYS as pyco2"
   ]
  },
  {
   "cell_type": "code",
   "execution_count": 3,
   "metadata": {},
   "outputs": [],
   "source": [
    "filename07 = 'wcoa_cruise_2007/32WC20070511.exc.csv'\n",
    "df07 = pd.read_csv(filename07,header=29,na_values=-999,\n",
    "                  parse_dates=[[6,7]])"
   ]
  },
  {
   "cell_type": "code",
   "execution_count": 4,
   "metadata": {},
   "outputs": [],
   "source": [
    "filename13 = 'wcoa_cruise_2013/WCOA2013_hy1.csv'\n",
    "df13 =  pd.read_csv(filename13,header=31,na_values=-999,parse_dates=[[8,9]])"
   ]
  },
  {
   "cell_type": "code",
   "execution_count": 6,
   "metadata": {},
   "outputs": [],
   "source": [
    "c07 = pyco2.sys(df07['ALKALI'], df07['TCARBN'], 1, 2,\n",
    "               salinity=df07['CTDSAL'], temperature=df07['CTDTMP'], \n",
    "                pressure=df07['CTDPRS'])"
   ]
  },
  {
   "cell_type": "code",
   "execution_count": 7,
   "metadata": {},
   "outputs": [],
   "source": [
    "c13 = pyco2.sys(df13['ALKALI'], df13['TCARBN'], 1, 2,\n",
    "               salinity=df13['CTDSAL'], temperature=df13['CTDTMP'], \n",
    "                pressure=df13['CTDPRS'])"
   ]
  },
  {
   "cell_type": "markdown",
   "metadata": {},
   "source": [
    "### 3. Multivariate regression tutorial: aragonite saturation state\n",
    "\n",
    "Using data from the West Coast Ocean Acidification (WCOA) cruise, create two different multiple linear regression models to calculate aragonite saturation state (OmegaA) between 30 and 300 dbar as a function of more commonly observed variables.\n",
    "\n",
    "#### Model 1: Temperature, salinity, pressure, dissolved oxygen and nitrate:\n",
    "\n",
    "* Temperature\n",
    "* Salinity\n",
    "* Pressure\n",
    "* Oxygen\n",
    "* Nitrate\n",
    "\n",
    "$\\hat{\\Omega}_A = c_0 + c_1\\times T + c_2\\times S + c_3\\times p + c_4\\times O_2 + c_5\\times N $ \n",
    "\n",
    "a. (*in class*) Create a 1-D array for the response variable, `y`. Which variable is the response variable in this case?"
   ]
  },
  {
   "cell_type": "code",
   "execution_count": null,
   "metadata": {},
   "outputs": [],
   "source": []
  },
  {
   "cell_type": "markdown",
   "metadata": {},
   "source": [
    "b. (*in class*) Create a 2-D array `X` that contains a column of all ones, and additional columns containing the explanatory variables. This 2-D array is called the \"design matrix\" and should have six columns. What are the explanatory variables in this case? \n",
    "\n",
    "* Approach: use `np.ones()` to create a 2-D array of correct size, then fill in the columns."
   ]
  },
  {
   "cell_type": "code",
   "execution_count": null,
   "metadata": {},
   "outputs": [],
   "source": []
  },
  {
   "cell_type": "markdown",
   "metadata": {},
   "source": [
    "c. (*in class*) Use `np.linalg.lstsq` to compute the set of coefficients, `c`."
   ]
  },
  {
   "cell_type": "code",
   "execution_count": null,
   "metadata": {},
   "outputs": [],
   "source": []
  },
  {
   "cell_type": "markdown",
   "metadata": {},
   "source": [
    "d. (*in class*) Use `np.matmul` to compute the modeled values `yhat`"
   ]
  },
  {
   "cell_type": "code",
   "execution_count": null,
   "metadata": {},
   "outputs": [],
   "source": []
  },
  {
   "cell_type": "markdown",
   "metadata": {},
   "source": [
    "e. (*in class*) Plot model vs. observations."
   ]
  },
  {
   "cell_type": "code",
   "execution_count": null,
   "metadata": {},
   "outputs": [],
   "source": []
  },
  {
   "cell_type": "markdown",
   "metadata": {},
   "source": [
    "f. (*in class*) Plot residuals vs. observations."
   ]
  },
  {
   "cell_type": "code",
   "execution_count": null,
   "metadata": {},
   "outputs": [],
   "source": []
  },
  {
   "cell_type": "markdown",
   "metadata": {},
   "source": [
    "g. (*in class*) Use `statsmodels` to get a complete summary of regression statistics."
   ]
  },
  {
   "cell_type": "code",
   "execution_count": null,
   "metadata": {},
   "outputs": [],
   "source": []
  },
  {
   "cell_type": "markdown",
   "metadata": {},
   "source": [
    "h. (*in class*) Alternate approach using `statsmodels` formulas."
   ]
  },
  {
   "cell_type": "code",
   "execution_count": null,
   "metadata": {},
   "outputs": [],
   "source": []
  },
  {
   "cell_type": "markdown",
   "metadata": {},
   "source": [
    "i. Another alternative approach using `pingouin`."
   ]
  },
  {
   "cell_type": "code",
   "execution_count": null,
   "metadata": {},
   "outputs": [],
   "source": []
  },
  {
   "cell_type": "markdown",
   "metadata": {},
   "source": [
    "j. (*in class*) Correlation matrix to look for multi-collinearity."
   ]
  },
  {
   "cell_type": "code",
   "execution_count": null,
   "metadata": {},
   "outputs": [],
   "source": []
  },
  {
   "cell_type": "markdown",
   "metadata": {},
   "source": [
    "### 4. Application of final model for aragonite saturation state\n",
    "\n",
    "In this section, data from the 2007 WCOA cruise are used to model aragonite saturation state following the model proposed by Juranek et al. (2009). An important question is whether this model can predict aragonite saturation state in different years. This model is can be tested using an independent data set from the 2013 WCOA cruise.\n",
    "\n",
    "#### Final model: Dissolved oxygen, and the interaction between oxygen and temperature (subtracting constant reference values):\n",
    "\n",
    "$ \\hat{\\Omega}_A = a_0 + a_1 \\times (O - Oref) + a_2 \\times (O - Oref) \\times (T - Tref) $\n",
    "\n",
    "a. (Homework) Calculate the coefficients $a_0$, $a_1$ and $a_2$ using either the design matrix approach or `statsmodels` formulas. Use the same constant values for $Tref$ and $Oref$ as Juranek et al. (2009)."
   ]
  },
  {
   "cell_type": "code",
   "execution_count": 58,
   "metadata": {},
   "outputs": [],
   "source": [
    "# insert code here"
   ]
  },
  {
   "cell_type": "markdown",
   "metadata": {},
   "source": [
    "b. (Homework) Calculate the root mean squared error for this  model."
   ]
  },
  {
   "cell_type": "code",
   "execution_count": 59,
   "metadata": {},
   "outputs": [],
   "source": [
    "# insert code here"
   ]
  },
  {
   "cell_type": "markdown",
   "metadata": {},
   "source": [
    "c. (Homework) Plot the residuals vs. the observations."
   ]
  },
  {
   "cell_type": "code",
   "execution_count": 60,
   "metadata": {},
   "outputs": [],
   "source": [
    "# insert code here"
   ]
  },
  {
   "cell_type": "markdown",
   "metadata": {},
   "source": [
    "d. (Homework) Use the coefficients calculated in part a to compute predicted aragonite saturation state for the 2013 cruise. Use the subset of 2013 data between 30 dbar and 300 dbar.\n",
    "\n",
    "*Important:* Use the same model coefficients calculated from the 2007 dataset. The goal is to evaluate whether a model developed based on a single cruise in 2007 would still be useful in 2013."
   ]
  },
  {
   "cell_type": "code",
   "execution_count": 62,
   "metadata": {},
   "outputs": [],
   "source": [
    "# insert code here"
   ]
  },
  {
   "cell_type": "markdown",
   "metadata": {},
   "source": [
    "e. (Homework) Calculate the root mean squared error (RMSE) between the model prediction and aragonite saturation state observations during 2013. Describe how this RMSE value compares with the RMSE calculated for the 2007 observations."
   ]
  },
  {
   "cell_type": "code",
   "execution_count": null,
   "metadata": {},
   "outputs": [],
   "source": [
    "# insert code here"
   ]
  },
  {
   "cell_type": "markdown",
   "metadata": {},
   "source": [
    "*insert text here*"
   ]
  },
  {
   "cell_type": "markdown",
   "metadata": {},
   "source": [
    "f. (Homework)  Make a plot of the residuals vs. observations during 2013. Comment on whether you observe any biases in the model."
   ]
  },
  {
   "cell_type": "code",
   "execution_count": null,
   "metadata": {},
   "outputs": [],
   "source": [
    "# insert code here"
   ]
  },
  {
   "cell_type": "markdown",
   "metadata": {},
   "source": [
    "*insert text here*"
   ]
  },
  {
   "cell_type": "markdown",
   "metadata": {},
   "source": [
    "g. (Homework) In a paragraph, compare the two different regressions (model 1 and the final model), commenting on:\n",
    "  * General applicability of the model equations\n",
    "  * Statistical significance\n",
    "  * Multiple co-linearity\n",
    "  * The potential for numerical errors\n",
    "  * How well the final model represents aragonite saturation state in different years\n",
    "  * Your scientific interpretation"
   ]
  },
  {
   "cell_type": "markdown",
   "metadata": {},
   "source": [
    "*insert text here*"
   ]
  }
 ],
 "metadata": {
  "anaconda-cloud": {},
  "kernelspec": {
   "display_name": "Python 3 (ipykernel)",
   "language": "python",
   "name": "python3"
  },
  "language_info": {
   "codemirror_mode": {
    "name": "ipython",
    "version": 3
   },
   "file_extension": ".py",
   "mimetype": "text/x-python",
   "name": "python",
   "nbconvert_exporter": "python",
   "pygments_lexer": "ipython3",
   "version": "3.10.8"
  }
 },
 "nbformat": 4,
 "nbformat_minor": 4
}
