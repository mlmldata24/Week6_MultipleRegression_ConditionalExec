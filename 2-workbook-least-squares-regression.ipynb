{
 "cells": [
  {
   "cell_type": "markdown",
   "metadata": {},
   "source": [
    "### Least squares regression workbook\n"
   ]
  },
  {
   "cell_type": "code",
   "execution_count": 1,
   "metadata": {},
   "outputs": [],
   "source": [
    "import numpy as np\n",
    "import pandas as pd\n",
    "import matplotlib.pyplot as plt\n",
    "\n",
    "from scipy import stats\n",
    "import statsmodels.api as sm\n",
    "import statsmodels.formula.api as smf\n",
    "import pingouin as pg\n",
    "\n",
    "import PyCO2SYS as pyco2"
   ]
  },
  {
   "cell_type": "markdown",
   "metadata": {},
   "source": [
    "Load 2007 data"
   ]
  },
  {
   "cell_type": "code",
   "execution_count": 4,
   "metadata": {},
   "outputs": [],
   "source": [
    "filename07 = 'wcoa_cruise_2007/32WC20070511.exc.csv'\n",
    "df07 = pd.read_csv(filename07,header=29,na_values=-999,parse_dates=[[6,7]])"
   ]
  },
  {
   "cell_type": "markdown",
   "metadata": {},
   "source": [
    "Load 2013 data"
   ]
  },
  {
   "cell_type": "code",
   "execution_count": 5,
   "metadata": {},
   "outputs": [],
   "source": [
    "filename13 = 'wcoa_cruise_2013/WCOA2013_hy1.csv'\n",
    "df13 =  pd.read_csv(filename13,header=31,na_values=-999,parse_dates=[[8,9]])"
   ]
  },
  {
   "cell_type": "markdown",
   "metadata": {},
   "source": [
    "Use the PyCO2SYS package to calculate seawater carbon chemistry parameters.\n",
    "\n",
    "https://pyco2sys.readthedocs.io/en/latest/"
   ]
  },
  {
   "cell_type": "code",
   "execution_count": 7,
   "metadata": {},
   "outputs": [],
   "source": [
    "c07 = pyco2.sys(df07['ALKALI'], df07['TCARBN'], 1, 2,\n",
    "               salinity=df07['CTDSAL'], temperature=df07['CTDTMP'], \n",
    "                pressure=df07['CTDPRS'])"
   ]
  },
  {
   "cell_type": "code",
   "execution_count": 8,
   "metadata": {},
   "outputs": [],
   "source": [
    "c13 = pyco2.sys(df13['ALKALI'], df13['TCARBN'], 1, 2,\n",
    "               salinity=df13['CTDSAL'], temperature=df13['CTDTMP'], \n",
    "                pressure=df13['CTDPRS'])"
   ]
  },
  {
   "cell_type": "markdown",
   "metadata": {},
   "source": [
    "### 2. Linear regression and correlation"
   ]
  },
  {
   "cell_type": "markdown",
   "metadata": {},
   "source": [
    "a. Plot dissolved oxygen vs. aragonite saturation state ($\\Omega_A$) for all samples collected during the 2007 West Coast Ocean Acidification Cruise."
   ]
  },
  {
   "cell_type": "code",
   "execution_count": null,
   "metadata": {},
   "outputs": [],
   "source": [
    "# insert code here"
   ]
  },
  {
   "cell_type": "markdown",
   "metadata": {},
   "source": [
    "b. Plot dissolved oxygen vs. aragonite saturation state ($\\Omega_A$) for the subset of samples collected at pressures between 30-300 dbar during the 2007 West Coast Ocean Acidification Cruise."
   ]
  },
  {
   "cell_type": "code",
   "execution_count": null,
   "metadata": {},
   "outputs": [],
   "source": [
    "# insert code here"
   ]
  },
  {
   "cell_type": "markdown",
   "metadata": {},
   "source": [
    "c. Calculate the slope and intercept of the Type 1 linear regression between dissolved oxygen vs. aragonite saturation state ($\\Omega_A$) for the subset of samples collected at pressures between 30-300 dbar during the 2007 West Coast Ocean Acidification Cruise. Plot the regression line with the data."
   ]
  },
  {
   "cell_type": "code",
   "execution_count": null,
   "metadata": {},
   "outputs": [],
   "source": [
    "# insert code here"
   ]
  },
  {
   "cell_type": "markdown",
   "metadata": {},
   "source": [
    "d. Create a function that calculates confidence intervals for the slope of the regression line, given the data values and significance level (where the default $\\alpha$ = 0.05 can be modified by the user)."
   ]
  },
  {
   "cell_type": "code",
   "execution_count": null,
   "metadata": {},
   "outputs": [],
   "source": [
    "def slope_ci(x,y,alpha=0.05):\n",
    "    ''' Compute the confidence intervals for the slope of the \n",
    "    Type I regression between x and y.\n",
    "    \n",
    "    INPUTS:\n",
    "    x - independent variable values\n",
    "    y - dependent variable values (must be same length as x)\n",
    "    alpha - significance level (default 0.05 for 95% confidence)\n",
    "    \n",
    "    OUTPUT:\n",
    "    slope_lower,slope_upper - bounds of confidence interval\n",
    "    '''\n",
    "    \n",
    "    # Insert code here\n",
    "\n",
    "    return slope_lower,slope_upper"
   ]
  },
  {
   "cell_type": "markdown",
   "metadata": {},
   "source": [
    "e. Use the above function to calculate 95% confidence intervals for the slope of the linear regression calculated in part c."
   ]
  },
  {
   "cell_type": "code",
   "execution_count": null,
   "metadata": {},
   "outputs": [],
   "source": [
    "# insert code here"
   ]
  },
  {
   "cell_type": "markdown",
   "metadata": {},
   "source": [
    "f. For the linear model created in part c, plot the model residuals (or errors) as a function of observed aragonite saturation state. See Figure 1d of Juranek et al. (2009) for an example of this type of plot."
   ]
  },
  {
   "cell_type": "code",
   "execution_count": null,
   "metadata": {},
   "outputs": [],
   "source": [
    "# insert code here"
   ]
  },
  {
   "cell_type": "markdown",
   "metadata": {},
   "source": [
    "g. Calculate the root mean squared error (RMSE) for the linear model created in part c."
   ]
  },
  {
   "cell_type": "code",
   "execution_count": null,
   "metadata": {},
   "outputs": [],
   "source": [
    "# insert code here"
   ]
  },
  {
   "cell_type": "markdown",
   "metadata": {},
   "source": [
    "h. Create a function called `rcrit` that calculates the critical correlation coefficient $r_{crit}$ for statistical significance (the minimum $r$ that will give you a significant coreelation), given the degrees of freedom and significance level alpha (default 0.05). Use this function to calculate the critical correlation coefficient for the linear aragonite saturation state model obtained in part c.\n",
    "\n",
    "Hints:\n",
    "* There is a helpful equation for testing the significance of a correlation in the [course notes](https://tompc35.github.io/data_marine_science/2-04-corr-regress-least-squares.html).\n",
    "* You may need to use `stats.t.ppf`\n",
    "* Use the table from Emery and Thomson to check your results (in the `table` directory in this repository)."
   ]
  },
  {
   "cell_type": "code",
   "execution_count": null,
   "metadata": {},
   "outputs": [],
   "source": [
    "def rcrit(nu,alpha=0.05):\n",
    "    \"\"\"\n",
    "    Critical r (correlation coefficient), given significance level\n",
    "    and degrees of freedom.\n",
    "    \n",
    "    INPUTS:\n",
    "    nu - degrees of freedom (N-2)        \n",
    "    alpha - significance level (default 0.05 for 95% confidence)\n",
    "    \n",
    "    OUTPUT:\n",
    "    rcrit - critical r value\n",
    "    \n",
    "    Values for 0.05 and 0.01 correspond with Appendix E in\n",
    "    Emery and Thomson (2004) Data Analysis Methods in Physical \n",
    "    Oceanography\n",
    "    \"\"\"\n",
    "\n",
    "    # Insert code here.\n",
    "\n",
    "    return rcrit"
   ]
  },
  {
   "cell_type": "code",
   "execution_count": null,
   "metadata": {},
   "outputs": [],
   "source": [
    "# use the rcrit function here"
   ]
  },
  {
   "cell_type": "markdown",
   "metadata": {},
   "source": [
    "i. Based on the plots and calculations made above, summarize the applicability of the linear regression model for aragonite saturation state based on dissolved oxygen concentration only. Comment on the quality of the fit, the magnitude of the expected errors and the potential for systematic bias. In your explanation, refer to the correlation coefficient $r$, the critical correlation coefficient $r_{crit}$, the RMSE, and the 95% confidence intervals of the slope."
   ]
  },
  {
   "cell_type": "markdown",
   "metadata": {},
   "source": [
    "*(insert answer here)*"
   ]
  }
 ],
 "metadata": {
  "anaconda-cloud": {},
  "kernelspec": {
   "display_name": "Python 3 (ipykernel)",
   "language": "python",
   "name": "python3"
  },
  "language_info": {
   "codemirror_mode": {
    "name": "ipython",
    "version": 3
   },
   "file_extension": ".py",
   "mimetype": "text/x-python",
   "name": "python",
   "nbconvert_exporter": "python",
   "pygments_lexer": "ipython3",
   "version": "3.10.8"
  }
 },
 "nbformat": 4,
 "nbformat_minor": 4
}
