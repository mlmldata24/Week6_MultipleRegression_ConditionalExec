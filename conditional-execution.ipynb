{
 "cells": [
  {
   "cell_type": "markdown",
   "id": "a4014653",
   "metadata": {
    "tags": []
   },
   "source": [
    "# Conditional Execution\n",
    "In Python, conditional expressions allow us make decisions about what code to execute. \n",
    "\n",
    "## The if statement\n",
    "The if statement has the following syntax:"
   ]
  },
  {
   "cell_type": "raw",
   "id": "bbf7240f",
   "metadata": {},
   "source": [
    "if (condition):\n",
    "    # when condition is met, this code will run"
   ]
  },
  {
   "cell_type": "markdown",
   "id": "898dc180",
   "metadata": {},
   "source": [
    "For example:"
   ]
  },
  {
   "cell_type": "code",
   "execution_count": 1,
   "id": "354a4857",
   "metadata": {},
   "outputs": [],
   "source": [
    "# insert example code here"
   ]
  },
  {
   "cell_type": "markdown",
   "id": "40008e94",
   "metadata": {},
   "source": [
    "## The else statement\n",
    "Another way to deal with two different mutually exclusive conditions is to use an `else` statement. The `else` statement will always come after an `if` statement using the following syntax:"
   ]
  },
  {
   "cell_type": "raw",
   "id": "f42a3e91",
   "metadata": {},
   "source": [
    "if (condition):\n",
    "    # when condition is met, this code will run\n",
    "else:\n",
    "    # when condition is not met, this code will run"
   ]
  },
  {
   "cell_type": "markdown",
   "id": "4b814832",
   "metadata": {},
   "source": [
    "Example:"
   ]
  },
  {
   "cell_type": "code",
   "execution_count": 2,
   "id": "bb67b061",
   "metadata": {},
   "outputs": [],
   "source": [
    "# insert example code here"
   ]
  },
  {
   "cell_type": "markdown",
   "id": "510aa48b",
   "metadata": {},
   "source": [
    "## The elif statement - adding more options"
   ]
  },
  {
   "cell_type": "markdown",
   "id": "d70e291c",
   "metadata": {},
   "source": [
    "If we need more than two options, we can use an intermediary `elif` statement with the following syntax:"
   ]
  },
  {
   "cell_type": "raw",
   "id": "c1583f81",
   "metadata": {},
   "source": [
    "if (first condition):\n",
    "    # when first condition is met, this code will run\n",
    "elif (second condition):\n",
    "    # when second condition is met (but not first), this code will run\n",
    "else:\n",
    "    # when first and second condition are not met, this code will run"
   ]
  },
  {
   "cell_type": "markdown",
   "id": "6f651386",
   "metadata": {},
   "source": [
    "For example:"
   ]
  },
  {
   "cell_type": "code",
   "execution_count": 3,
   "id": "b397ac35",
   "metadata": {},
   "outputs": [],
   "source": [
    "# insert example code here"
   ]
  },
  {
   "cell_type": "markdown",
   "id": "26383065",
   "metadata": {},
   "source": [
    "### Exercises"
   ]
  },
  {
   "cell_type": "markdown",
   "id": "5b90e688",
   "metadata": {},
   "source": [
    "1. How many paths?\n",
    "\n",
    "Consider this code:\n",
    "```python\n",
    "if 4 > 5:\n",
    "    print('A')\n",
    "elif 4 == 5:\n",
    "    print('B')\n",
    "elif 4 < 5:\n",
    "    print('C')\n",
    "```\n",
    "\n",
    "Which of the following would be printed if you were to run this code? Why did you pick this answer?\n",
    "\n",
    "    A\n",
    "    B\n",
    "    C\n",
    "    B and C\n",
    "\n",
    "Source: https://swcarpentry.github.io/python-novice-inflammation/07-cond.html#how-many-paths\n"
   ]
  },
  {
   "cell_type": "markdown",
   "id": "133b00c4",
   "metadata": {},
   "source": [
    "2. Close enough\n",
    "\n",
    "Write code that prints `True` if the variable a is within 10% of the variable b and `False` otherwise. Compare your implementation with your neighbor’s: do you get the same answer for all possible pairs of numbers?\n",
    "\n",
    "Hint: There is a built-in function abs that returns the absolute value of a number:\n",
    "\n",
    "```python\n",
    "print(abs(-12))\n",
    "```\n",
    "\n",
    "```\n",
    "12\n",
    "```\n",
    "\n",
    "Source: https://swcarpentry.github.io/python-novice-inflammation/07-cond.html#close-enough"
   ]
  },
  {
   "cell_type": "code",
   "execution_count": null,
   "id": "4268072c",
   "metadata": {},
   "outputs": [],
   "source": [
    "a = 5.2\n",
    "b = 5\n",
    "\n",
    "# insert code here"
   ]
  },
  {
   "cell_type": "markdown",
   "id": "a72df54d",
   "metadata": {},
   "source": [
    "\n",
    "\n",
    "3. Counting vowels\n",
    "\n",
    "* Write a loop that counts the number of vowels in a character string.\n",
    "\n",
    "* Test it on a few individual words and full sentences.\n",
    "    \n",
    "* Once you are done, compare your solution to your neighbor’s. Did you make the same decisions about how to handle the letter ‘y’ (which some people think is a vowel, and some do not)?\n",
    "\n",
    "Source: https://swcarpentry.github.io/python-novice-inflammation/07-cond.html#counting-vowels\n"
   ]
  },
  {
   "cell_type": "code",
   "execution_count": 1,
   "id": "f34aa311",
   "metadata": {},
   "outputs": [],
   "source": [
    "char_string = 'mossy'\n",
    "\n",
    "# insert code here"
   ]
  }
 ],
 "metadata": {
  "kernelspec": {
   "display_name": "Python 3 (ipykernel)",
   "language": "python",
   "name": "python3"
  },
  "language_info": {
   "codemirror_mode": {
    "name": "ipython",
    "version": 3
   },
   "file_extension": ".py",
   "mimetype": "text/x-python",
   "name": "python",
   "nbconvert_exporter": "python",
   "pygments_lexer": "ipython3",
   "version": "3.11.7"
  }
 },
 "nbformat": 4,
 "nbformat_minor": 5
}
