{
 "cells": [
  {
   "cell_type": "markdown",
   "metadata": {},
   "source": [
    "# Multiple regression workbook\n",
    "\n",
    "Tutorial: [Multivariate regression tutorial: aragonite saturation state](#Multivariate-regression-tutorial:-aragonite-saturation-state)\n",
    "\n",
    "Exercises: [Application of final model for aragonite saturation state](Application-of-final-model-for-aragonite-saturation-state)"
   ]
  },
  {
   "cell_type": "code",
   "execution_count": 2,
   "metadata": {},
   "outputs": [],
   "source": [
    "import numpy as np\n",
    "import matplotlib.pyplot as plt\n",
    "import pandas as pd\n",
    "\n",
    "from scipy import stats\n",
    "import statsmodels.api as sm\n",
    "import statsmodels.formula.api as smf\n",
    "import pingouin as pg\n",
    "\n",
    "import PyCO2SYS as pyco2\n",
    "import seaborn as sns"
   ]
  },
  {
   "cell_type": "code",
   "execution_count": 3,
   "metadata": {},
   "outputs": [],
   "source": [
    "filename07 = 'wcoa_cruise_2007/32WC20070511.exc.csv'\n",
    "df07 = pd.read_csv(filename07,header=29,na_values=-999,\n",
    "                  parse_dates=[[6,7]])"
   ]
  },
  {
   "cell_type": "code",
   "execution_count": 4,
   "metadata": {},
   "outputs": [
    {
     "name": "stderr",
     "output_type": "stream",
     "text": [
      "/var/folders/z7/lmyk7sz94177j166ck0x63h80000gr/T/ipykernel_26314/3033169421.py:2: UserWarning: Could not infer format, so each element will be parsed individually, falling back to `dateutil`. To ensure parsing is consistent and as-expected, please specify a format.\n",
      "  df13 =  pd.read_csv(filename13,header=31,na_values=-999,parse_dates=[[8,9]])\n"
     ]
    }
   ],
   "source": [
    "filename13 = 'wcoa_cruise_2013/WCOA2013_hy1.csv'\n",
    "df13 =  pd.read_csv(filename13,header=31,na_values=-999,parse_dates=[[8,9]])"
   ]
  },
  {
   "cell_type": "code",
   "execution_count": 5,
   "metadata": {},
   "outputs": [
    {
     "name": "stderr",
     "output_type": "stream",
     "text": [
      "/Users/tconnolly/opt/miniconda3/envs/ms263-24/lib/python3.11/site-packages/autograd/tracer.py:48: RuntimeWarning: invalid value encountered in sqrt\n",
      "  return f_raw(*args, **kwargs)\n",
      "/Users/tconnolly/opt/miniconda3/envs/ms263-24/lib/python3.11/site-packages/PyCO2SYS/equilibria/p1atm.py:99: RuntimeWarning: invalid value encountered in sqrt\n",
      "  lnKF = 1590.2 / TempK - 12.641 + 1.525 * IonS**0.5\n",
      "/Users/tconnolly/opt/miniconda3/envs/ms263-24/lib/python3.11/site-packages/PyCO2SYS/equilibria/p1atm.py:577: RuntimeWarning: overflow encountered in power\n",
      "  K1 = 10.0 ** -(pK1)\n",
      "/Users/tconnolly/opt/miniconda3/envs/ms263-24/lib/python3.11/site-packages/PyCO2SYS/equilibria/p1atm.py:583: RuntimeWarning: overflow encountered in power\n",
      "  K2 = 10.0 ** -(pK2)\n",
      "/Users/tconnolly/opt/miniconda3/envs/ms263-24/lib/python3.11/site-packages/PyCO2SYS/equilibria/p1atm.py:603: RuntimeWarning: overflow encountered in power\n",
      "  K1 = 10.0**-pK1\n",
      "/Users/tconnolly/opt/miniconda3/envs/ms263-24/lib/python3.11/site-packages/PyCO2SYS/equilibria/p1atm.py:611: RuntimeWarning: overflow encountered in power\n",
      "  K2 = 10.0**-pK2\n",
      "/Users/tconnolly/opt/miniconda3/envs/ms263-24/lib/python3.11/site-packages/PyCO2SYS/equilibria/p1atm.py:636: RuntimeWarning: overflow encountered in power\n",
      "  K1 = 10.0**-pK1\n",
      "/Users/tconnolly/opt/miniconda3/envs/ms263-24/lib/python3.11/site-packages/PyCO2SYS/equilibria/p1atm.py:641: RuntimeWarning: overflow encountered in power\n",
      "  K2 = 10.0**-pK2\n",
      "/Users/tconnolly/opt/miniconda3/envs/ms263-24/lib/python3.11/site-packages/PyCO2SYS/equilibria/p1atm.py:653: RuntimeWarning: overflow encountered in power\n",
      "  K1 = 10.0**-pK1\n",
      "/Users/tconnolly/opt/miniconda3/envs/ms263-24/lib/python3.11/site-packages/PyCO2SYS/equilibria/p1atm.py:658: RuntimeWarning: overflow encountered in power\n",
      "  K2 = 10.0**-pK2\n",
      "/Users/tconnolly/opt/miniconda3/envs/ms263-24/lib/python3.11/site-packages/PyCO2SYS/equilibria/p1atm.py:715: RuntimeWarning: overflow encountered in power\n",
      "  K2 = 10.0**-pK2\n",
      "/Users/tconnolly/opt/miniconda3/envs/ms263-24/lib/python3.11/site-packages/PyCO2SYS/solubility.py:41: RuntimeWarning: overflow encountered in power\n",
      "  KAr = 10.0**logKAr  # this is in (mol/kg-SW)^2\n",
      "/Users/tconnolly/opt/miniconda3/envs/ms263-24/lib/python3.11/site-packages/PyCO2SYS/solubility.py:25: RuntimeWarning: overflow encountered in power\n",
      "  KCa = 10.0**logKCa  # this is in (mol/kg-SW)^2 at zero pressure\n"
     ]
    }
   ],
   "source": [
    "c07 = pyco2.sys(df07['ALKALI'], df07['TCARBN'], 1, 2,\n",
    "               salinity=df07['CTDSAL'], temperature=df07['CTDTMP'], \n",
    "                pressure=df07['CTDPRS']);"
   ]
  },
  {
   "cell_type": "code",
   "execution_count": 6,
   "metadata": {},
   "outputs": [],
   "source": [
    "c13 = pyco2.sys(df13['ALKALI'], df13['TCARBN'], 1, 2,\n",
    "               salinity=df13['CTDSAL'], temperature=df13['CTDTMP'], \n",
    "                pressure=df13['CTDPRS']);"
   ]
  },
  {
   "cell_type": "markdown",
   "metadata": {},
   "source": [
    "### Multivariate regression tutorial: aragonite saturation state\n",
    "\n",
    "Using data from the West Coast Ocean Acidification (WCOA) cruise, create two different multiple linear regression models to calculate aragonite saturation state (OmegaA) between 30 and 300 dbar as a function of more commonly observed variables.\n",
    "\n",
    "#### Model 1: Temperature, salinity, pressure, dissolved oxygen and nitrate:\n",
    "\n",
    "* Temperature\n",
    "* Salinity\n",
    "* Pressure\n",
    "* Oxygen\n",
    "* Nitrate\n",
    "\n",
    "$$\\hat{\\Omega}_A = c_{0} + c_{1} \\times T + c_{2} \\times S + c_{3} \\times p + c_{4} \\times O_2 + c_{5} \\times N$$\n",
    "\n",
    "a. (*in class*) Create a 1-D array for the response variable, `y`. Which variable is the response variable in this case?"
   ]
  },
  {
   "cell_type": "code",
   "execution_count": 7,
   "metadata": {},
   "outputs": [
    {
     "data": {
      "text/plain": [
       "{'par1': array([2350.1, 2264. , 2240.4, ..., 2281.8, 2276.4, 2265.5]),\n",
       " 'par1_type': array([1, 1, 1, ..., 1, 1, 1]),\n",
       " 'par2': array([   nan,    nan,    nan, ..., 2241.9, 2229.2, 2208. ]),\n",
       " 'par2_type': array([2, 2, 2, ..., 2, 2, 2]),\n",
       " 'alkalinity': array([2350.1, 2264. , 2240.4, ..., 2281.8, 2276.4, 2265.5]),\n",
       " 'dic': array([   nan,    nan,    nan, ..., 2241.9, 2229.2, 2208. ]),\n",
       " 'opt_k_bisulfate': 1,\n",
       " 'opt_k_carbonic': 16,\n",
       " 'opt_k_fluoride': 1,\n",
       " 'opt_total_borate': 1,\n",
       " 'opt_gas_constant': 3,\n",
       " 'opt_pH_scale': 1,\n",
       " 'opt_buffers_mode': 1,\n",
       " 'salinity': array([12623.22, 12521.02, 12353.35, ...,    34.46,    34.39,    34.24]),\n",
       " 'temperature': array([ 1.598,  1.729,  1.936, ..., 11.548, 12.256, 12.309]),\n",
       " 'pressure': array([2946.5, 2502.2, 1996.8, ...,  175.6,  150.6,  130.4]),\n",
       " 'total_ammonia': 0.0,\n",
       " 'total_borate': array([149927.78725714, 148713.94325714, 146722.50271429, ...,\n",
       "           409.28634286,    408.45494286,    406.67337143]),\n",
       " 'total_calcium': array([3709268.16969029, 3679237.22616381, 3629968.26039977, ...,\n",
       "          10125.89348261,   10105.32434321,   10061.24761592]),\n",
       " 'total_fluoride': array([24642.63160203, 24443.12015014, 24115.80033469, ...,\n",
       "           67.27166959,    67.13501791,    66.84219288]),\n",
       " 'total_phosphate': 0.0,\n",
       " 'total_silicate': 0.0,\n",
       " 'total_sulfate': array([10183488.48156007, 10101041.01389212,  9965777.14986193, ...,\n",
       "           27799.80172052,    27743.33085226,    27622.32184883]),\n",
       " 'total_sulfide': 0.0,\n",
       " 'peng_correction': 0.0,\n",
       " 'gas_constant': array(83.14462618),\n",
       " 'total_alpha': 0.0,\n",
       " 'total_beta': 0.0,\n",
       " 'pressure_atmosphere': 1.0,\n",
       " 'pressure_atmosphere_out': 1.0,\n",
       " 'pH': array([       nan,        nan,        nan, ..., 7.6296644 , 7.64451702,\n",
       "        7.67957323]),\n",
       " 'pCO2': array([          nan,           nan,           nan, ..., 1140.0193842 ,\n",
       "        1100.61417874, 1007.56659713]),\n",
       " 'fCO2': array([          nan,           nan,           nan, ..., 1135.71723266,\n",
       "        1096.49831902, 1003.8012575 ]),\n",
       " 'bicarbonate': array([          nan,           nan,           nan, ..., 2136.27545366,\n",
       "        2122.97550843, 2101.29972132]),\n",
       " 'carbonate': array([        nan,         nan,         nan, ..., 58.09545229,\n",
       "        61.34606534, 65.64997948]),\n",
       " 'aqueous_CO2': array([        nan,         nan,         nan, ..., 47.52909405,\n",
       "        44.87842624, 41.0502992 ]),\n",
       " 'xCO2': array([          nan,           nan,           nan, ..., 1155.2349784 ,\n",
       "        1116.01699165, 1021.71835824]),\n",
       " 'alkalinity_borate': array([        nan,         nan,         nan, ..., 28.63604557,\n",
       "        29.95647812, 32.05430191]),\n",
       " 'hydroxide': array([       nan,        nan,        nan, ..., 0.72150321, 0.79899023,\n",
       "        0.86733328]),\n",
       " 'alkalinity_phosphate': array([nan, nan, nan, ...,  0.,  0.,  0.]),\n",
       " 'alkalinity_silicate': array([nan, nan, nan, ...,  0.,  0.,  0.]),\n",
       " 'alkalinity_ammonia': array([nan, nan, nan, ...,  0.,  0.,  0.]),\n",
       " 'alkalinity_sulfide': array([nan, nan, nan, ...,  0.,  0.,  0.]),\n",
       " 'hydrogen_free': array([       nan,        nan,        nan, ..., 0.02015658, 0.01939266,\n",
       "        0.01788211]),\n",
       " 'revelle_factor': array([        nan,         nan,         nan, ..., 18.02171701,\n",
       "        17.79672823, 17.49685963]),\n",
       " 'saturation_calcite': array([       nan,        nan,        nan, ..., 1.34528322, 1.42813977,\n",
       "        1.53532318]),\n",
       " 'saturation_aragonite': array([       nan,        nan,        nan, ..., 0.8590408 , 0.9127804 ,\n",
       "        0.98089542]),\n",
       " 'pH_total': array([       nan,        nan,        nan, ..., 7.6296644 , 7.64451702,\n",
       "        7.67957323]),\n",
       " 'pH_sws': array([       nan,        nan,        nan, ..., 7.62147439, 7.63624778,\n",
       "        7.67130491]),\n",
       " 'pH_free': array([       nan,        nan,        nan, ..., 7.69558307, 7.71236253,\n",
       "        7.74758128]),\n",
       " 'pH_nbs': array([       nan,        nan,        nan, ..., 7.73862586, 7.75503642,\n",
       "        7.7904411 ]),\n",
       " 'gamma_dic': array([       nan,        nan,        nan, ..., 0.0001244 , 0.00012526,\n",
       "        0.00012619]),\n",
       " 'beta_dic': array([       nan,        nan,        nan, ..., 0.00013233, 0.0001337 ,\n",
       "        0.00013533]),\n",
       " 'omega_dic': array([        nan,         nan,         nan, ..., -0.00014134,\n",
       "        -0.00014335, -0.0001459 ]),\n",
       " 'gamma_alk': array([        nan,         nan,         nan, ..., -0.00013233,\n",
       "        -0.0001337 , -0.00013533]),\n",
       " 'beta_alk': array([        nan,         nan,         nan, ..., -0.00013295,\n",
       "        -0.00013468, -0.00013684]),\n",
       " 'omega_alk': array([       nan,        nan,        nan, ..., 0.00013358, 0.00013569,\n",
       "        0.00013838]),\n",
       " 'isocapnic_quotient': array([       nan,        nan,        nan, ..., 1.0637385 , 1.06736245,\n",
       "        1.07243411]),\n",
       " 'isocapnic_quotient_approx': array([       nan,        nan,        nan, ..., 1.05686327, 1.06045729,\n",
       "        1.06541263]),\n",
       " 'psi': array([       nan,        nan,        nan, ..., 0.88016134, 0.87377774,\n",
       "        0.86491644]),\n",
       " 'substrate_inhibitor_ratio': array([       nan,        nan,        nan, ..., 0.105984  , 0.10947313,\n",
       "        0.1175085 ]),\n",
       " 'alkalinity_alpha': array([nan, nan, nan, ...,  0.,  0.,  0.]),\n",
       " 'alkalinity_beta': array([nan, nan, nan, ...,  0.,  0.,  0.]),\n",
       " 'HCO3': array([          nan,           nan,           nan, ..., 2136.27545366,\n",
       "        2122.97550843, 2101.29972132]),\n",
       " 'CO3': array([        nan,         nan,         nan, ..., 58.09545229,\n",
       "        61.34606534, 65.64997948]),\n",
       " 'CO2': array([        nan,         nan,         nan, ..., 47.52909405,\n",
       "        44.87842624, 41.0502992 ]),\n",
       " 'BOH4': array([        nan,         nan,         nan, ..., 28.63604557,\n",
       "        29.95647812, 32.05430191]),\n",
       " 'BOH3': array([         nan,          nan,          nan, ..., 380.65029728,\n",
       "        378.49846473, 374.61906951]),\n",
       " 'OH': array([       nan,        nan,        nan, ..., 0.72150321, 0.79899023,\n",
       "        0.86733328]),\n",
       " 'Hfree': array([       nan,        nan,        nan, ..., 0.02015658, 0.01939266,\n",
       "        0.01788211]),\n",
       " 'H3PO4': array([nan, nan, nan, ...,  0.,  0.,  0.]),\n",
       " 'H2PO4': array([nan, nan, nan, ...,  0.,  0.,  0.]),\n",
       " 'HPO4': array([nan, nan, nan, ...,  0.,  0.,  0.]),\n",
       " 'PO4': array([nan, nan, nan, ...,  0.,  0.,  0.]),\n",
       " 'H3SiO4': array([nan, nan, nan, ...,  0.,  0.,  0.]),\n",
       " 'H4SiO4': array([nan, nan, nan, ...,  0.,  0.,  0.]),\n",
       " 'NH3': array([nan, nan, nan, ...,  0.,  0.,  0.]),\n",
       " 'NH4': array([nan, nan, nan, ...,  0.,  0.,  0.]),\n",
       " 'HS': array([nan, nan, nan, ...,  0.,  0.,  0.]),\n",
       " 'H2S': array([nan, nan, nan, ...,  0.,  0.,  0.]),\n",
       " 'HSO4': array([       nan,        nan,        nan, ..., 0.00330383, 0.00327898,\n",
       "        0.00303139]),\n",
       " 'SO4': array([           nan,            nan,            nan, ...,\n",
       "        27799.7984167 , 27743.32757328, 27622.31881744]),\n",
       " 'HF': array([       nan,        nan,        nan, ..., 0.00044662, 0.00043582,\n",
       "        0.00040197]),\n",
       " 'F': array([        nan,         nan,         nan, ..., 67.27122297,\n",
       "        67.1345821 , 66.84179091]),\n",
       " 'alpha': array([nan, nan, nan, ...,  0.,  0.,  0.]),\n",
       " 'alphaH': array([nan, nan, nan, ...,  0.,  0.,  0.]),\n",
       " 'beta': array([nan, nan, nan, ...,  0.,  0.,  0.]),\n",
       " 'betaH': array([nan, nan, nan, ...,  0.,  0.,  0.]),\n",
       " 'k_CO2': array([1.33398726e-34, 2.53302977e-34, 7.23374147e-34, ...,\n",
       "        4.18494082e-02, 4.09288600e-02, 4.08948474e-02]),\n",
       " 'k_carbonic_1': array([           nan,            nan,            nan, ...,\n",
       "        1.05446778e-06, 1.07248283e-06, 1.07052903e-06]),\n",
       " 'k_carbonic_2': array([           nan,            nan,            nan, ...,\n",
       "        6.37999720e-10, 6.55125811e-10, 6.53391325e-10]),\n",
       " 'k_water': array([           nan,            nan,            nan, ...,\n",
       "        1.69267612e-14, 1.81144208e-14, 1.81389766e-14]),\n",
       " 'k_borate': array([           nan,            nan,            nan, ...,\n",
       "        1.76490963e-09, 1.79436014e-09, 1.78946503e-09]),\n",
       " 'k_bisulfate': array([       nan,        nan,        nan, ..., 0.16960608, 0.1640807 ,\n",
       "        0.16294328]),\n",
       " 'k_fluoride': array([       nan,        nan,        nan, ..., 0.00303607, 0.00298732,\n",
       "        0.00297351]),\n",
       " 'k_phosphoric_1': array([       nan,        nan,        nan, ..., 0.02507356, 0.02501395,\n",
       "        0.02496153]),\n",
       " 'k_phosphoric_2': array([           nan,            nan,            nan, ...,\n",
       "        8.50731590e-07, 8.61190206e-07, 8.59150312e-07]),\n",
       " 'k_phosphoric_3': array([           nan,            nan,            nan, ...,\n",
       "        8.08234705e-10, 8.39032043e-10, 8.41292690e-10]),\n",
       " 'k_silicate': array([           nan,            nan,            nan, ...,\n",
       "        2.39485672e-10, 2.46345234e-10, 2.46152880e-10]),\n",
       " 'k_ammonia': array([           nan,            nan,            nan, ...,\n",
       "        1.94416793e-10, 2.05820826e-10, 2.06454570e-10]),\n",
       " 'k_sulfide': array([           nan,            nan,            nan, ...,\n",
       "        1.87822549e-07, 1.93209858e-07, 1.93388483e-07]),\n",
       " 'k_calcite': array([           inf,            inf,            inf, ...,\n",
       "        4.37282168e-07, 4.34076482e-07, 4.30216067e-07]),\n",
       " 'k_aragonite': array([           inf,            inf,            inf, ...,\n",
       "        6.84796769e-07, 6.79157758e-07, 6.73385443e-07]),\n",
       " 'fugacity_factor': array([0.99569947, 0.99570702, 0.9957189 , ..., 0.99622625, 0.9962604 ,\n",
       "        0.99626294]),\n",
       " 'vp_factor': array([0.99999296, 0.99999248, 0.99999164, ..., 0.986829  , 0.98619841,\n",
       "        0.98614906]),\n",
       " 'fH': array([8.83592770e+03, 8.66315073e+03, 8.38611123e+03, ...,\n",
       "        7.63569439e-01, 7.60696393e-01, 7.60087874e-01]),\n",
       " 'k_alpha': 1e-07,\n",
       " 'k_beta': 1e-07}"
      ]
     },
     "execution_count": 7,
     "metadata": {},
     "output_type": "execute_result"
    }
   ],
   "source": [
    "c07"
   ]
  },
  {
   "cell_type": "code",
   "execution_count": 8,
   "metadata": {},
   "outputs": [],
   "source": [
    "# create a subset\n",
    "\n",
    "ii = ((df07['CTDPRS'] >= 30) & (df07['CTDPRS'] <= 300) &\n",
    "      (df07['NITRAT_FLAG_W'] ==2) & (df07['PHSPHT_FLAG_W'] ==2) &\n",
    "      (df07['CTDOXY_FLAG_W'] == 2) & (df07['CTDSAL_FLAG_W'] ==2) &\n",
    "      (df07['TCARBN_FLAG_W'] == 2) & (df07['ALKALI_FLAG_W'] == 2))"
   ]
  },
  {
   "cell_type": "code",
   "execution_count": null,
   "metadata": {},
   "outputs": [],
   "source": []
  },
  {
   "cell_type": "code",
   "execution_count": null,
   "metadata": {},
   "outputs": [],
   "source": []
  },
  {
   "cell_type": "code",
   "execution_count": null,
   "metadata": {},
   "outputs": [],
   "source": []
  },
  {
   "cell_type": "code",
   "execution_count": null,
   "metadata": {},
   "outputs": [],
   "source": []
  },
  {
   "cell_type": "markdown",
   "metadata": {},
   "source": [
    "b. (*in class*) Solve for the coefficients $\\vec{c}$ in the least squares problem:\n",
    "\n",
    "$$ \\hat{y} = \\textbf{X}\\vec{c} $$ \n",
    "\n",
    "Create a 2-D array `X` that contains a column of all ones, and additional columns containing the explanatory variables. This 2-D array is called the \"design matrix\" and should have six columns. What are the explanatory variables in this case? \n",
    "\n",
    "* Approach: use `np.ones()` to create a 2-D array of correct size, then fill in the columns."
   ]
  },
  {
   "cell_type": "code",
   "execution_count": null,
   "metadata": {},
   "outputs": [],
   "source": []
  },
  {
   "cell_type": "code",
   "execution_count": null,
   "metadata": {},
   "outputs": [],
   "source": []
  },
  {
   "cell_type": "code",
   "execution_count": null,
   "metadata": {},
   "outputs": [],
   "source": []
  },
  {
   "cell_type": "code",
   "execution_count": null,
   "metadata": {},
   "outputs": [],
   "source": []
  },
  {
   "cell_type": "code",
   "execution_count": null,
   "metadata": {},
   "outputs": [],
   "source": []
  },
  {
   "cell_type": "code",
   "execution_count": null,
   "metadata": {},
   "outputs": [],
   "source": []
  },
  {
   "cell_type": "code",
   "execution_count": null,
   "metadata": {},
   "outputs": [],
   "source": []
  },
  {
   "cell_type": "code",
   "execution_count": null,
   "metadata": {},
   "outputs": [],
   "source": []
  },
  {
   "cell_type": "markdown",
   "metadata": {},
   "source": [
    "c. (*in class*) Use `np.linalg.lstsq` to compute the set of coefficients, `c`."
   ]
  },
  {
   "cell_type": "code",
   "execution_count": null,
   "metadata": {},
   "outputs": [],
   "source": []
  },
  {
   "cell_type": "code",
   "execution_count": null,
   "metadata": {},
   "outputs": [],
   "source": []
  },
  {
   "cell_type": "code",
   "execution_count": null,
   "metadata": {},
   "outputs": [],
   "source": []
  },
  {
   "cell_type": "code",
   "execution_count": null,
   "metadata": {},
   "outputs": [],
   "source": []
  },
  {
   "cell_type": "markdown",
   "metadata": {},
   "source": [
    "Alternative solution using matrix multiplication:\n",
    "\n",
    "$$\\hat{c} = (\\textbf{X}^T\\textbf{X})^{-1}\\textbf{X}^T\\vec{y}$$"
   ]
  },
  {
   "cell_type": "code",
   "execution_count": null,
   "metadata": {},
   "outputs": [],
   "source": []
  },
  {
   "cell_type": "code",
   "execution_count": null,
   "metadata": {},
   "outputs": [],
   "source": []
  },
  {
   "cell_type": "code",
   "execution_count": null,
   "metadata": {},
   "outputs": [],
   "source": []
  },
  {
   "cell_type": "code",
   "execution_count": null,
   "metadata": {},
   "outputs": [],
   "source": []
  },
  {
   "cell_type": "code",
   "execution_count": null,
   "metadata": {},
   "outputs": [],
   "source": []
  },
  {
   "cell_type": "code",
   "execution_count": null,
   "metadata": {},
   "outputs": [],
   "source": []
  },
  {
   "cell_type": "code",
   "execution_count": null,
   "metadata": {},
   "outputs": [],
   "source": []
  },
  {
   "cell_type": "code",
   "execution_count": null,
   "metadata": {},
   "outputs": [],
   "source": []
  },
  {
   "cell_type": "markdown",
   "metadata": {},
   "source": [
    "d. (*in class*) Use `np.matmul` to compute the modeled values `yhat` (students do)"
   ]
  },
  {
   "cell_type": "code",
   "execution_count": null,
   "metadata": {},
   "outputs": [],
   "source": []
  },
  {
   "cell_type": "code",
   "execution_count": null,
   "metadata": {},
   "outputs": [],
   "source": []
  },
  {
   "cell_type": "code",
   "execution_count": null,
   "metadata": {},
   "outputs": [],
   "source": []
  },
  {
   "cell_type": "code",
   "execution_count": null,
   "metadata": {},
   "outputs": [],
   "source": []
  },
  {
   "cell_type": "markdown",
   "metadata": {},
   "source": [
    "e. (*in class*) Plot model vs. observations. (exercise)"
   ]
  },
  {
   "cell_type": "code",
   "execution_count": null,
   "metadata": {},
   "outputs": [],
   "source": []
  },
  {
   "cell_type": "code",
   "execution_count": null,
   "metadata": {},
   "outputs": [],
   "source": []
  },
  {
   "cell_type": "markdown",
   "metadata": {},
   "source": [
    "f. (*in class*) Plot residuals vs. observations (exercise)"
   ]
  },
  {
   "cell_type": "code",
   "execution_count": null,
   "metadata": {},
   "outputs": [],
   "source": []
  },
  {
   "cell_type": "code",
   "execution_count": null,
   "metadata": {},
   "outputs": [],
   "source": []
  },
  {
   "cell_type": "markdown",
   "metadata": {},
   "source": [
    "g. (*in class*) Use `statsmodels` to get a complete summary of regression statistics."
   ]
  },
  {
   "cell_type": "code",
   "execution_count": null,
   "metadata": {},
   "outputs": [],
   "source": []
  },
  {
   "cell_type": "code",
   "execution_count": null,
   "metadata": {},
   "outputs": [],
   "source": []
  },
  {
   "cell_type": "code",
   "execution_count": null,
   "metadata": {},
   "outputs": [],
   "source": []
  },
  {
   "cell_type": "markdown",
   "metadata": {},
   "source": [
    "Condition number - this tells you how much a small change to the matrix $\\textbf{X}$ will change the solution to the least squares problem $\\hat{c} = (\\textbf{X}^T\\textbf{X})^{-1}\\textbf{X}^T\\vec{y}$. It is a measure of the extent to which the columns in $\\textbf{X}$ are linearly independent and closely scaled in magnitude."
   ]
  },
  {
   "cell_type": "code",
   "execution_count": null,
   "metadata": {},
   "outputs": [],
   "source": []
  },
  {
   "cell_type": "code",
   "execution_count": null,
   "metadata": {},
   "outputs": [],
   "source": []
  },
  {
   "cell_type": "markdown",
   "metadata": {},
   "source": [
    "An illustrative example with a made-up matrix"
   ]
  },
  {
   "cell_type": "code",
   "execution_count": null,
   "metadata": {},
   "outputs": [],
   "source": []
  },
  {
   "cell_type": "code",
   "execution_count": null,
   "metadata": {},
   "outputs": [],
   "source": []
  },
  {
   "cell_type": "code",
   "execution_count": null,
   "metadata": {},
   "outputs": [],
   "source": []
  },
  {
   "cell_type": "code",
   "execution_count": null,
   "metadata": {},
   "outputs": [],
   "source": []
  },
  {
   "cell_type": "code",
   "execution_count": null,
   "metadata": {},
   "outputs": [],
   "source": []
  },
  {
   "cell_type": "code",
   "execution_count": null,
   "metadata": {},
   "outputs": [],
   "source": []
  },
  {
   "cell_type": "code",
   "execution_count": null,
   "metadata": {},
   "outputs": [],
   "source": []
  },
  {
   "cell_type": "code",
   "execution_count": null,
   "metadata": {},
   "outputs": [],
   "source": []
  },
  {
   "cell_type": "markdown",
   "metadata": {},
   "source": [
    "h. (*in class*) Alternate approach using `statsmodels` formulas."
   ]
  },
  {
   "cell_type": "code",
   "execution_count": null,
   "metadata": {},
   "outputs": [],
   "source": []
  },
  {
   "cell_type": "markdown",
   "metadata": {},
   "source": [
    "#### Alternative: Pingouin"
   ]
  },
  {
   "cell_type": "code",
   "execution_count": null,
   "metadata": {},
   "outputs": [],
   "source": []
  },
  {
   "cell_type": "code",
   "execution_count": 94,
   "metadata": {},
   "outputs": [
    {
     "data": {
      "text/html": [
       "<div>\n",
       "<style scoped>\n",
       "    .dataframe tbody tr th:only-of-type {\n",
       "        vertical-align: middle;\n",
       "    }\n",
       "\n",
       "    .dataframe tbody tr th {\n",
       "        vertical-align: top;\n",
       "    }\n",
       "\n",
       "    .dataframe thead th {\n",
       "        text-align: right;\n",
       "    }\n",
       "</style>\n",
       "<table border=\"1\" class=\"dataframe\">\n",
       "  <thead>\n",
       "    <tr style=\"text-align: right;\">\n",
       "      <th></th>\n",
       "      <th>names</th>\n",
       "      <th>coef</th>\n",
       "      <th>se</th>\n",
       "      <th>T</th>\n",
       "      <th>pval</th>\n",
       "      <th>r2</th>\n",
       "      <th>adj_r2</th>\n",
       "      <th>CI[2.5%]</th>\n",
       "      <th>CI[97.5%]</th>\n",
       "    </tr>\n",
       "  </thead>\n",
       "  <tbody>\n",
       "    <tr>\n",
       "      <th>0</th>\n",
       "      <td>Intercept</td>\n",
       "      <td>-2.757914</td>\n",
       "      <td>0.576098</td>\n",
       "      <td>-4.787228</td>\n",
       "      <td>1.991778e-06</td>\n",
       "      <td>0.972587</td>\n",
       "      <td>0.972427</td>\n",
       "      <td>-3.888645</td>\n",
       "      <td>-1.627183</td>\n",
       "    </tr>\n",
       "    <tr>\n",
       "      <th>1</th>\n",
       "      <td>CTDTMP</td>\n",
       "      <td>0.055835</td>\n",
       "      <td>0.005241</td>\n",
       "      <td>10.654495</td>\n",
       "      <td>5.628490e-25</td>\n",
       "      <td>0.972587</td>\n",
       "      <td>0.972427</td>\n",
       "      <td>0.045549</td>\n",
       "      <td>0.066121</td>\n",
       "    </tr>\n",
       "    <tr>\n",
       "      <th>2</th>\n",
       "      <td>CTDSAL</td>\n",
       "      <td>0.097123</td>\n",
       "      <td>0.019071</td>\n",
       "      <td>5.092696</td>\n",
       "      <td>4.343110e-07</td>\n",
       "      <td>0.972587</td>\n",
       "      <td>0.972427</td>\n",
       "      <td>0.059691</td>\n",
       "      <td>0.134554</td>\n",
       "    </tr>\n",
       "    <tr>\n",
       "      <th>3</th>\n",
       "      <td>CTDPRS</td>\n",
       "      <td>0.000875</td>\n",
       "      <td>0.000061</td>\n",
       "      <td>14.440292</td>\n",
       "      <td>1.836967e-42</td>\n",
       "      <td>0.972587</td>\n",
       "      <td>0.972427</td>\n",
       "      <td>0.000756</td>\n",
       "      <td>0.000994</td>\n",
       "    </tr>\n",
       "    <tr>\n",
       "      <th>4</th>\n",
       "      <td>CTDOXY</td>\n",
       "      <td>0.003308</td>\n",
       "      <td>0.000123</td>\n",
       "      <td>26.790351</td>\n",
       "      <td>2.623827e-115</td>\n",
       "      <td>0.972587</td>\n",
       "      <td>0.972427</td>\n",
       "      <td>0.003066</td>\n",
       "      <td>0.003551</td>\n",
       "    </tr>\n",
       "    <tr>\n",
       "      <th>5</th>\n",
       "      <td>NITRAT</td>\n",
       "      <td>-0.022500</td>\n",
       "      <td>0.001795</td>\n",
       "      <td>-12.533109</td>\n",
       "      <td>3.319621e-33</td>\n",
       "      <td>0.972587</td>\n",
       "      <td>0.972427</td>\n",
       "      <td>-0.026024</td>\n",
       "      <td>-0.018977</td>\n",
       "    </tr>\n",
       "  </tbody>\n",
       "</table>\n",
       "</div>"
      ],
      "text/plain": [
       "       names      coef        se          T           pval        r2  \\\n",
       "0  Intercept -2.757914  0.576098  -4.787228   1.991778e-06  0.972587   \n",
       "1     CTDTMP  0.055835  0.005241  10.654495   5.628490e-25  0.972587   \n",
       "2     CTDSAL  0.097123  0.019071   5.092696   4.343110e-07  0.972587   \n",
       "3     CTDPRS  0.000875  0.000061  14.440292   1.836967e-42  0.972587   \n",
       "4     CTDOXY  0.003308  0.000123  26.790351  2.623827e-115  0.972587   \n",
       "5     NITRAT -0.022500  0.001795 -12.533109   3.319621e-33  0.972587   \n",
       "\n",
       "     adj_r2  CI[2.5%]  CI[97.5%]  \n",
       "0  0.972427 -3.888645  -1.627183  \n",
       "1  0.972427  0.045549   0.066121  \n",
       "2  0.972427  0.059691   0.134554  \n",
       "3  0.972427  0.000756   0.000994  \n",
       "4  0.972427  0.003066   0.003551  \n",
       "5  0.972427 -0.026024  -0.018977  "
      ]
     },
     "execution_count": 94,
     "metadata": {},
     "output_type": "execute_result"
    }
   ],
   "source": [
    "pg.linear_regression(df07sub[['CTDTMP', 'CTDSAL', 'CTDPRS', 'CTDOXY', 'NITRAT']], df07sub['OmegaA'])"
   ]
  },
  {
   "cell_type": "markdown",
   "metadata": {},
   "source": [
    "Check for multiple collinearity"
   ]
  },
  {
   "cell_type": "code",
   "execution_count": null,
   "metadata": {},
   "outputs": [],
   "source": []
  },
  {
   "cell_type": "code",
   "execution_count": null,
   "metadata": {},
   "outputs": [],
   "source": []
  },
  {
   "cell_type": "code",
   "execution_count": null,
   "metadata": {},
   "outputs": [],
   "source": []
  },
  {
   "cell_type": "code",
   "execution_count": null,
   "metadata": {},
   "outputs": [],
   "source": []
  },
  {
   "cell_type": "code",
   "execution_count": null,
   "metadata": {},
   "outputs": [],
   "source": []
  },
  {
   "cell_type": "markdown",
   "metadata": {},
   "source": [
    "### Application of final model for aragonite saturation state\n",
    "\n",
    "In this section, data from the 2007 WCOA cruise are used to model aragonite saturation state following the model proposed by Juranek et al. (2009). An important question is whether this model can predict aragonite saturation state in different years. This model is can be tested using an independent data set from the 2013 WCOA cruise.\n",
    "\n",
    "#### Final model: Dissolved oxygen, and the interaction between oxygen and temperature (subtracting constant reference values):\n",
    "\n",
    "$ \\hat{\\Omega}_A = a_0 + a_1 \\times (O - Oref) + a_2 \\times (O - Oref) \\times (T - Tref) $\n",
    "\n",
    "a. (Exercise) Calculate the coefficients $a_0$, $a_1$ and $a_2$ using either the design matrix approach or `statsmodels` formulas."
   ]
  },
  {
   "cell_type": "code",
   "execution_count": null,
   "metadata": {},
   "outputs": [],
   "source": [
    "# insert code here"
   ]
  },
  {
   "cell_type": "markdown",
   "metadata": {},
   "source": [
    "b. (Exercise) Calculate the root mean squared error for this  model."
   ]
  },
  {
   "cell_type": "code",
   "execution_count": null,
   "metadata": {},
   "outputs": [],
   "source": [
    "# insert code here"
   ]
  },
  {
   "cell_type": "markdown",
   "metadata": {},
   "source": [
    "c. (Exercise) Plot the residuals vs. the observations."
   ]
  },
  {
   "cell_type": "code",
   "execution_count": null,
   "metadata": {},
   "outputs": [],
   "source": [
    "# insert code here"
   ]
  },
  {
   "cell_type": "markdown",
   "metadata": {},
   "source": [
    "d. (Exercise) Use the coefficients calculated in part a to compute predicted aragonite saturation state for the 2013 cruise. Use the subset of 2013 data between 30 dbar and 300 dbar. "
   ]
  },
  {
   "cell_type": "code",
   "execution_count": null,
   "metadata": {},
   "outputs": [],
   "source": [
    "# insert code here"
   ]
  },
  {
   "cell_type": "markdown",
   "metadata": {},
   "source": [
    "e. (Exercise) Calculate the root mean squared error (RMSE) between the model prediction and aragonite saturation state observations during 2013. Describe how this RMSE value compares with the RMSE calculated for the 2007 observations."
   ]
  },
  {
   "cell_type": "code",
   "execution_count": null,
   "metadata": {},
   "outputs": [],
   "source": [
    "# insert code here"
   ]
  },
  {
   "cell_type": "markdown",
   "metadata": {},
   "source": [
    "*insert text here*"
   ]
  },
  {
   "cell_type": "markdown",
   "metadata": {},
   "source": [
    "f. (Exercise)  Make a plot of the residuals vs. observations during 2013. Comment on whether there are any biases in the model."
   ]
  },
  {
   "cell_type": "code",
   "execution_count": null,
   "metadata": {},
   "outputs": [],
   "source": [
    "# insert code here"
   ]
  },
  {
   "cell_type": "markdown",
   "metadata": {},
   "source": [
    "*insert text here*"
   ]
  },
  {
   "cell_type": "markdown",
   "metadata": {},
   "source": [
    "g. (Exercise) In a paragraph, compare the two different regressions (model 1 and the final model), commenting on:\n",
    "  * General applicability of the model equations\n",
    "  * Statistical significance\n",
    "  * Multiple co-linearity\n",
    "  * The potential for numerical errors\n",
    "  * How well the model represents aragonite saturation state in different years\n",
    "  * Your scientific interpretation"
   ]
  },
  {
   "cell_type": "markdown",
   "metadata": {},
   "source": [
    "*insert text here*"
   ]
  }
 ],
 "metadata": {
  "anaconda-cloud": {},
  "kernelspec": {
   "display_name": "ms263-24",
   "language": "python",
   "name": "python3"
  },
  "language_info": {
   "codemirror_mode": {
    "name": "ipython",
    "version": 3
   },
   "file_extension": ".py",
   "mimetype": "text/x-python",
   "name": "python",
   "nbconvert_exporter": "python",
   "pygments_lexer": "ipython3",
   "version": "3.11.7"
  }
 },
 "nbformat": 4,
 "nbformat_minor": 4
}
