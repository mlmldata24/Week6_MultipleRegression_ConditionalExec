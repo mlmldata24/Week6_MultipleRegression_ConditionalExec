{
 "cells": [
  {
   "cell_type": "markdown",
   "metadata": {},
   "source": [
    "### 1. Python modules\n",
    "\n",
    "a. (*In class*) Create a module called `convert.py` that contains functions for converting temperature units. \n",
    "\n",
    "b. (*In class*) Create a script called `myscipt.py` that imports the conversion functions and prints the result for the conversion of 40 degrees Celsius to Fahrenheit. Include this file in your HW5 Github repository.\n",
    "\n",
    "c. (*In class/Homework*) Write two more unit conversion functions of your choice (converting one way and back) and add them to `convert.py`. Make sure there is a descriptive doc-string in each function. Include this file in your HW5 Github repository.\n",
    "\n",
    "d. (*Homework*) In the code cell below, load the `convert` module and show an example of how to use each of your functions.\n",
    "\n",
    "* Note: If you edit `convert.py` you need to restart the kernel in order for those changes to be recognized in a script or notebook."
   ]
  },
  {
   "cell_type": "code",
   "execution_count": null,
   "metadata": {},
   "outputs": [],
   "source": [
    "import convert\n",
    "\n",
    "# insert code here"
   ]
  }
 ],
 "metadata": {
  "kernelspec": {
   "display_name": "Python 3 (ipykernel)",
   "language": "python",
   "name": "python3"
  },
  "language_info": {
   "codemirror_mode": {
    "name": "ipython",
    "version": 3
   },
   "file_extension": ".py",
   "mimetype": "text/x-python",
   "name": "python",
   "nbconvert_exporter": "python",
   "pygments_lexer": "ipython3",
   "version": "3.8.12"
  }
 },
 "nbformat": 4,
 "nbformat_minor": 4
}
